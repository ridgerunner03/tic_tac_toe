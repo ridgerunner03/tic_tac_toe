{
 "cells": [
  {
   "cell_type": "markdown",
   "metadata": {},
   "source": [
    "___\n",
    "\n",
    "<a href='https://www.udemy.com/user/joseportilla/'><img src='../Pierian_Data_Logo.png'/></a>\n",
    "___\n",
    "<center><em>Content Copyright by Pierian Data</em></center>"
   ]
  },
  {
   "cell_type": "markdown",
   "metadata": {},
   "source": [
    "# Milestone Project 1: Walkthrough Steps Workbook\n",
    "\n",
    "Below is a set of steps for you to follow to try to create the Tic Tac Toe Milestone Project game!"
   ]
  },
  {
   "cell_type": "markdown",
   "metadata": {},
   "source": [
    "#### Some suggested tools before you get started:\n",
    "To take input from a user:\n",
    "\n",
    "    player1 = input(\"Please pick a marker 'X' or 'O'\")\n",
    "    \n",
    "Note that input() takes in a string. If you need an integer value, use\n",
    "\n",
    "    position = int(input('Please enter a number'))\n",
    "    \n",
    "<br>To clear the screen between moves:\n",
    "\n",
    "    from IPython.display import clear_output\n",
    "    clear_output()\n",
    "    \n",
    "Note that clear_output() will only work in jupyter. To clear the screen in other IDEs, consider:\n",
    "\n",
    "    print('\\n'*100)\n",
    "    \n",
    "This scrolls the previous board up out of view. Now on to the program!"
   ]
  },
  {
   "cell_type": "markdown",
   "metadata": {},
   "source": [
    "**Step 1: Write a function that can print out a board. Set up your board as a list, where each index 1-9 corresponds with a number on a number pad, so you get a 3 by 3 board representation.**"
   ]
  },
  {
   "cell_type": "code",
   "execution_count": 78,
   "metadata": {},
   "outputs": [
    {
     "ename": "SyntaxError",
     "evalue": "invalid syntax (<ipython-input-78-af7a12ae628f>, line 5)",
     "output_type": "error",
     "traceback": [
      "\u001b[1;36m  File \u001b[1;32m\"<ipython-input-78-af7a12ae628f>\"\u001b[1;36m, line \u001b[1;32m5\u001b[0m\n\u001b[1;33m    board = [0','1','2','3','4','5','6','7','8']\u001b[0m\n\u001b[1;37m              ^\u001b[0m\n\u001b[1;31mSyntaxError\u001b[0m\u001b[1;31m:\u001b[0m invalid syntax\n"
     ]
    }
   ],
   "source": [
    "from IPython.display import clear_output\n",
    "\n",
    "def display_board(value):\n",
    "    clear_output()\n",
    "    #board = [0','1','2','3','4','5','6','7','8']\n",
    "    \n",
    "    \n",
    "    print(\"\\n\")\n",
    "    print(\"\\t     |         |     \")\n",
    "    print(\"\\t {}   |    {}    |   {} \".format (board[0], board[1], board[2]))\n",
    "    print(\"\\t     |         |     \")\n",
    "    print(\"\\t-----+---------+-----\")\n",
    "    print(\"\\t     |         |     \")\n",
    "    print(\"\\t {}   |    {}    |   {} \".format (board[3], board[4], board[5]))\n",
    "    print(\"\\t     |         |     \")\n",
    "    print(\"\\t-----+---------+-----\")\n",
    "    print(\"\\t     |         |     \")\n",
    "    print(\"\\t {}   |    {}    |   {} \".format (board[6], board[7], board[8]))\n",
    "    print(\"\\t     |         |     \")"
   ]
  },
  {
   "cell_type": "code",
   "execution_count": 130,
   "metadata": {},
   "outputs": [],
   "source": [
    "board = ['0','1','2','3','4','5','6','7','8']"
   ]
  },
  {
   "cell_type": "code",
   "execution_count": 132,
   "metadata": {},
   "outputs": [],
   "source": [
    "board = ['X','O','X','O','X','O','','','']"
   ]
  },
  {
   "cell_type": "markdown",
   "metadata": {},
   "source": [
    "**TEST Step 1:** run your function on a test version of the board list, and make adjustments as necessary"
   ]
  },
  {
   "cell_type": "code",
   "execution_count": 106,
   "metadata": {},
   "outputs": [
    {
     "name": "stdout",
     "output_type": "stream",
     "text": [
      "\n",
      "\n",
      "\t     |         |     \n",
      "\t 0   |    1    |   2 \n",
      "\t     |         |     \n",
      "\t-----+---------+-----\n",
      "\t     |         |     \n",
      "\t 3   |    4    |   5 \n",
      "\t     |         |     \n",
      "\t-----+---------+-----\n",
      "\t     |         |     \n",
      "\t 6   |    7    |   8 \n",
      "\t     |         |     \n"
     ]
    }
   ],
   "source": [
    "#board = ['X','O','X','O','X','O','X','O','X']\n",
    "display_board(board)"
   ]
  },
  {
   "cell_type": "markdown",
   "metadata": {},
   "source": [
    "**Step 2: Write a function that can take in a player input and assign their marker as 'X' or 'O'. Think about using *while* loops to continually ask until you get a correct answer.**"
   ]
  },
  {
   "cell_type": "code",
   "execution_count": 15,
   "metadata": {},
   "outputs": [],
   "source": [
    "def player_input():\n",
    "    marker = ''\n",
    "    #if they return anything other than x or o the while not loop will continue.\n",
    "    \n",
    "    while not (marker == 'X' or marker == 'O'):\n",
    "        marker = input ('Player 1: Do you want to be X or O?').upper()\n",
    "        \n",
    "    if marker == 'X':\n",
    "        return ('X', 'O')\n",
    "    else:\n",
    "        return ('O','X')"
   ]
  },
  {
   "cell_type": "markdown",
   "metadata": {},
   "source": [
    "**TEST Step 2:** run the function to make sure it returns the desired output"
   ]
  },
  {
   "cell_type": "code",
   "execution_count": 26,
   "metadata": {},
   "outputs": [
    {
     "name": "stdout",
     "output_type": "stream",
     "text": [
      "Player 1: Do you want to be X or O?x\n"
     ]
    },
    {
     "data": {
      "text/plain": [
       "('X', 'O')"
      ]
     },
     "execution_count": 26,
     "metadata": {},
     "output_type": "execute_result"
    }
   ],
   "source": [
    "player_input()"
   ]
  },
  {
   "cell_type": "markdown",
   "metadata": {},
   "source": [
    "**Step 3: Write a function that takes in the board list object, a marker ('X' or 'O'), and a desired position (number 1-9) and assigns it to the board.**"
   ]
  },
  {
   "cell_type": "code",
   "execution_count": 31,
   "metadata": {},
   "outputs": [],
   "source": [
    "def place_marker(marker, position):\n",
    "    board[position] = marker"
   ]
  },
  {
   "cell_type": "markdown",
   "metadata": {},
   "source": [
    "**TEST Step 3:** run the place marker function using test parameters and display the modified board"
   ]
  },
  {
   "cell_type": "code",
   "execution_count": 35,
   "metadata": {},
   "outputs": [
    {
     "name": "stdout",
     "output_type": "stream",
     "text": [
      "\n",
      "\n",
      "\t     |         |     \n",
      "\t X   |    O    |   X \n",
      "\t     |         |     \n",
      "\t-----+---------+-----\n",
      "\t     |         |     \n",
      "\t O   |    X    |   O \n",
      "\t     |         |     \n",
      "\t-----+---------+-----\n",
      "\t     |         |     \n",
      "\t X   |    $    |   X \n",
      "\t     |         |     \n"
     ]
    }
   ],
   "source": [
    "place_marker('$',7)\n",
    "display_board(board)"
   ]
  },
  {
   "cell_type": "markdown",
   "metadata": {},
   "source": [
    "**Step 4: Write a function that takes in a board and a mark (X or O) and then checks to see if that mark has won. **"
   ]
  },
  {
   "cell_type": "code",
   "execution_count": 36,
   "metadata": {},
   "outputs": [],
   "source": [
    "def win_check(board, mark):\n",
    "    return ((board[0] == mark and board[1] == mark and board[2] == mark) or #top row across\n",
    "    (board[3] == mark and board[4] == mark and board[5] == mark) or # middle row across\n",
    "    (board[6] == mark and board[7] == mark and board[8] == mark) or # bottom row across\n",
    "    (board[0] == mark and board[3] == mark and board[6] == mark) or # left column\n",
    "    (board[1] == mark and board[4] == mark and board[7] == mark) or # middle column\n",
    "    (board[2] == mark and board[5] == mark and board[8] == mark) or # right column\n",
    "    (board[0] == mark and board[4] == mark and board[8] == mark) or # left to right diagonal\n",
    "    (board[6] == mark and board[4] == mark and board[2] == mark)) #right to left diagonal\n",
    "    pass"
   ]
  },
  {
   "cell_type": "markdown",
   "metadata": {},
   "source": [
    "**TEST Step 4:** run the win_check function against our test_board - it should return True"
   ]
  },
  {
   "cell_type": "code",
   "execution_count": 38,
   "metadata": {},
   "outputs": [
    {
     "data": {
      "text/plain": [
       "False"
      ]
     },
     "execution_count": 38,
     "metadata": {},
     "output_type": "execute_result"
    }
   ],
   "source": [
    "win_check(board,'O')"
   ]
  },
  {
   "cell_type": "markdown",
   "metadata": {},
   "source": [
    "**Step 5: Write a function that uses the random module to randomly decide which player goes first. You may want to lookup random.randint() Return a string of which player went first.**"
   ]
  },
  {
   "cell_type": "code",
   "execution_count": 55,
   "metadata": {},
   "outputs": [],
   "source": [
    "import random\n",
    "\n",
    "def choose_first():\n",
    "    if random.randint(0,1) == 0:\n",
    "        return 'Player 1'\n",
    "    else:\n",
    "        return 'Player 2'"
   ]
  },
  {
   "cell_type": "markdown",
   "metadata": {},
   "source": [
    "**Step 6: Write a function that returns a boolean indicating whether a space on the board is freely available.**"
   ]
  },
  {
   "cell_type": "code",
   "execution_count": 122,
   "metadata": {},
   "outputs": [],
   "source": [
    "def space_check(board, position):\n",
    "    if board[int(position)] == 'X' or board[int(position)] == 'O':\n",
    "        # if the position has already been taken it will be False\n",
    "        return False\n",
    "    else:\n",
    "        # if the space is available it will be True\n",
    "        return True"
   ]
  },
  {
   "cell_type": "markdown",
   "metadata": {},
   "source": [
    "**Step 7: Write a function that checks if the board is full and returns a boolean value. True if full, False otherwise.**"
   ]
  },
  {
   "cell_type": "code",
   "execution_count": 123,
   "metadata": {},
   "outputs": [],
   "source": [
    "def full_board_check(board):\n",
    "    for i in range(0,9):\n",
    "        if space_check(board,i):\n",
    "            return False\n",
    "    return True\n",
    "    \n",
    "    \n",
    "    "
   ]
  },
  {
   "cell_type": "code",
   "execution_count": 124,
   "metadata": {},
   "outputs": [
    {
     "data": {
      "text/plain": [
       "False"
      ]
     },
     "execution_count": 124,
     "metadata": {},
     "output_type": "execute_result"
    }
   ],
   "source": [
    "full_board_check(board)"
   ]
  },
  {
   "cell_type": "markdown",
   "metadata": {},
   "source": [
    "**Step 8: Write a function that asks for a player's next position (as a number 1-9) and then uses the function from step 6 to check if it's a free position. If it is, then return the position for later use.**"
   ]
  },
  {
   "cell_type": "code",
   "execution_count": 136,
   "metadata": {},
   "outputs": [],
   "source": [
    "def player_choice():\n",
    "    position = 'Wrong'\n",
    "    within_range = False\n",
    "    \n",
    "    while position.isdigit() == False or within_range == False:\n",
    "        position = input(\"Please choose a number (0-9): \")\n",
    "\n",
    "        if position.isdigit() == False:\n",
    "            print(\"Sorry, this is not an integer.\")\n",
    "            \n",
    "        if position.isdigit() == True:\n",
    "            if int(position) in range(0,10):\n",
    "                within_range = True\n",
    "\n",
    "            else:\n",
    "                print(\"Sorry, please pick an integer in the specified range.\")\n",
    "                within_range = False\n",
    "    \n",
    "    if space_check(board,position) == True:\n",
    "        return position\n",
    "    else:\n",
    "        return False\n",
    "   \n"
   ]
  },
  {
   "cell_type": "code",
   "execution_count": 138,
   "metadata": {},
   "outputs": [
    {
     "name": "stdout",
     "output_type": "stream",
     "text": [
      "Please choose a number (0-9): 7\n"
     ]
    },
    {
     "data": {
      "text/plain": [
       "'7'"
      ]
     },
     "execution_count": 138,
     "metadata": {},
     "output_type": "execute_result"
    }
   ],
   "source": [
    "player_choice()"
   ]
  },
  {
   "cell_type": "markdown",
   "metadata": {},
   "source": [
    "**Step 9: Write a function that asks the player if they want to play again and returns a boolean True if they do want to play again.**"
   ]
  },
  {
   "cell_type": "code",
   "execution_count": 139,
   "metadata": {},
   "outputs": [],
   "source": [
    "def replay():\n",
    "    return input(\"do you want to play again?  Yes or No: \").lower().startswith('y')"
   ]
  },
  {
   "cell_type": "markdown",
   "metadata": {
    "collapsed": true
   },
   "source": [
    "**Step 10: Here comes the hard part! Use while loops and the functions you've made to run the game!**"
   ]
  },
  {
   "cell_type": "code",
   "execution_count": null,
   "metadata": {
    "collapsed": true
   },
   "outputs": [],
   "source": [
    "print('Welcome to Tic Tac Toe!')\n",
    "\n",
    "#while True:\n",
    "    # Set the game up here\n",
    "    #pass\n",
    "\n",
    "    #while game_on:\n",
    "        #Player 1 Turn\n",
    "        \n",
    "        \n",
    "        # Player2's turn.\n",
    "            \n",
    "            #pass\n",
    "\n",
    "    #if not replay():\n",
    "        #break\n",
    "        \n",
    "        \n",
    "        \n",
    "print('Welcome to TicTacToe!')\n",
    "\n",
    "While True:\n",
    "    #reset the board\n",
    "    theboard = [' '] *10\n",
    "    player1_marker, player2_marker = player_input()\n",
    "    turn = choice_first()\n",
    "    print(turn + 'will go first.')\n",
    "    \n",
    "    play_game = input('Are you ready to play? Enter Y or N.')\n",
    "    \n",
    "    # what if they try to break it?\n",
    "    #if play_game.lower()[0] != 'y' and play_game.lower()[0] != 'n'\n",
    "        #print('please choose Y or N.')\n",
    "    if play_game.lower()[0] == 'y'\n",
    "        game_on = True\n",
    "    else:\n",
    "        game_on == False\n",
    "    \n",
    "    while game_on True:\n",
    "        if turn = 'Player 1'\n",
    "        \n",
    "            \n",
    "        "
   ]
  },
  {
   "cell_type": "markdown",
   "metadata": {
    "collapsed": true
   },
   "source": [
    "## Good Job!"
   ]
  }
 ],
 "metadata": {
  "kernelspec": {
   "display_name": "Python 3",
   "language": "python",
   "name": "python3"
  },
  "language_info": {
   "codemirror_mode": {
    "name": "ipython",
    "version": 3
   },
   "file_extension": ".py",
   "mimetype": "text/x-python",
   "name": "python",
   "nbconvert_exporter": "python",
   "pygments_lexer": "ipython3",
   "version": "3.8.5"
  }
 },
 "nbformat": 4,
 "nbformat_minor": 1
}

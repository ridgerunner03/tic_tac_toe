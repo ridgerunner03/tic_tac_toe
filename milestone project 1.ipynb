{
 "cells": [
  {
   "cell_type": "markdown",
   "metadata": {},
   "source": [
    "display function"
   ]
  },
  {
   "cell_type": "code",
   "execution_count": 26,
   "metadata": {},
   "outputs": [],
   "source": [
    "def display(row1, row2, row3):\n",
    "    print(row1)\n",
    "    print(\"-------+---------+-------\")\n",
    "    print(row2)\n",
    "    print(\"-------+---------+-------\")\n",
    "    print(row3)"
   ]
  },
  {
   "cell_type": "code",
   "execution_count": 178,
   "metadata": {},
   "outputs": [
    {
     "name": "stdout",
     "output_type": "stream",
     "text": [
      "['0', '|', '2', '|', '4']\n",
      "-------+---------+-------\n",
      "['0', '|', '2', '|', '4']\n",
      "-------+---------+-------\n",
      "['0', '|', '2', '|', '4']\n"
     ]
    }
   ],
   "source": [
    "row1 = ['0','|','2','|','4']\n",
    "row2 = ['0','|','2','|','4']\n",
    "row3 = ['0','|','2','|','4']\n",
    "display(row1,row2,row3)"
   ]
  },
  {
   "cell_type": "code",
   "execution_count": 12,
   "metadata": {},
   "outputs": [
    {
     "name": "stdout",
     "output_type": "stream",
     "text": [
      "['0', '|', '2', '|', '4']\n",
      "-------+---------+-------\n",
      "['0', '|', 'X', '|', '4']\n",
      "-------+---------+-------\n",
      "['0', '|', '2', '|', '4']\n"
     ]
    }
   ],
   "source": [
    "row2[2] = 'X'\n",
    "display(row1,row2,row3)"
   ]
  },
  {
   "cell_type": "markdown",
   "metadata": {},
   "source": [
    "input function"
   ]
  },
  {
   "cell_type": "code",
   "execution_count": 4,
   "metadata": {},
   "outputs": [
    {
     "name": "stdout",
     "output_type": "stream",
     "text": [
      "please enter a value: 2\n"
     ]
    }
   ],
   "source": [
    "result = input(\"please enter a value: \")"
   ]
  },
  {
   "cell_type": "markdown",
   "metadata": {},
   "source": [
    "inputs are always strings so we need to make sure we specify this is an int"
   ]
  },
  {
   "cell_type": "code",
   "execution_count": 20,
   "metadata": {},
   "outputs": [
    {
     "data": {
      "text/plain": [
       "str"
      ]
     },
     "execution_count": 20,
     "metadata": {},
     "output_type": "execute_result"
    }
   ],
   "source": [
    "type(result)"
   ]
  },
  {
   "cell_type": "code",
   "execution_count": 21,
   "metadata": {},
   "outputs": [
    {
     "name": "stdout",
     "output_type": "stream",
     "text": [
      "please enter a value(0,2,4): 2\n"
     ]
    }
   ],
   "source": [
    "result = int(input(\"please enter a value(0,2,4): \"))"
   ]
  },
  {
   "cell_type": "code",
   "execution_count": 22,
   "metadata": {},
   "outputs": [
    {
     "data": {
      "text/plain": [
       "int"
      ]
     },
     "execution_count": 22,
     "metadata": {},
     "output_type": "execute_result"
    }
   ],
   "source": [
    "type(result)"
   ]
  },
  {
   "cell_type": "code",
   "execution_count": 21,
   "metadata": {},
   "outputs": [
    {
     "name": "stdout",
     "output_type": "stream",
     "text": [
      "choose a row number: \n",
      "1\n",
      "2\n",
      "3 1\n",
      "choose a position (0,2,4): 2\n"
     ]
    }
   ],
   "source": [
    "row_num = int(input(\"choose a row number: \\n1\\n2\\n3 \"))\n",
    "position_index = int(input(\"choose a position (0,2,4): \"))"
   ]
  },
  {
   "cell_type": "markdown",
   "metadata": {},
   "source": [
    "This is the real guts of the game."
   ]
  },
  {
   "cell_type": "code",
   "execution_count": 180,
   "metadata": {},
   "outputs": [],
   "source": [
    "def turn():\n",
    "    \n",
    "    row_num = 'Wrong'\n",
    "    position_index = 'Wrong'\n",
    "    within_range = False\n",
    "    \n",
    "    #for row\n",
    "    while row_num.isdigit() == False or within_range == False:\n",
    "        row_num = input(\"choose a row number: \\n1\\n2\\n3  : \")\n",
    "        \n",
    "        if row_num.isdigit() == False:\n",
    "            print(\"Sorry, this is not an integer.\")\n",
    "            \n",
    "        if row_num.isdigit() == True:\n",
    "            if int(row_num) in range(1,4):\n",
    "                within_range = True\n",
    "                \n",
    "                #for value\n",
    "                while position_index.isdigit() == False or within_range == False:\n",
    "                    position_index = input(\"Please choose a position (0, 2, or 4): \")\n",
    "\n",
    "                    if position_index.isdigit() == False:\n",
    "                        print(\"Sorry, this is not an integer.\")\n",
    "\n",
    "                    if position_index.isdigit() == True:\n",
    "                        if int(position_index) in range(0,5,2):\n",
    "                            within_range = True\n",
    "                        else:\n",
    "                            print(\"Sorry, please pick an integer in the specified range.\")\n",
    "                            within_range = False\n",
    "                \n",
    "                \n",
    "                \n",
    "            else:\n",
    "                print(\"Sorry, please pick an integer in the specified range.\")\n",
    "                within_range = False\n",
    "    \n",
    "\n",
    "    \n",
    "\n",
    "\n",
    "\n",
    "\n",
    "    if row_num ==1:\n",
    "        row1[position_index] = 'X'\n",
    "        if row2[2] != 'X' and row2[2] != 'O':\n",
    "            row2[2] = 'O'\n",
    "        #win conditions\n",
    "        elif (row1[0] == 'X' or row1[0] == 'O') and (row1[2] == 'X' or row1[2] == 'O') and (row1[4] == 'X' or row1[4] == 'O') and (row2[0] == 'X' or row2[0] == 'O') and (row2[2] == 'X' or row2[2] == 'O') and (row2[4] == 'X' or row2[4] == 'O') and (row3[0] == 'X' or row3[0] == 'O') and (row3[2] == 'X' or row3[2] == 'O') and (row3[4] == 'X' or row3[4] == 'O'):\n",
    "                 return \"good game, its a draw\"\n",
    "            #vertical win conditions\n",
    "        elif (row1[0] == 'X' and row2[0] == 'X' and row3[0] == 'X') or (row1[2] == 'X' and row2[2] == 'X' and row3[2] == 'X') or (row1[4] == 'X' and row2[4] == 'X' and row3[4] == 'X'):\n",
    "            return \"you win\"\n",
    "        elif (row1[0] == 'O' and row2[0] == 'O' and row3[0] == 'O') or (row1[2] == 'O' and row2[2] == 'O' and row3[2] == 'O') or (row1[4] == 'O' and row2[4] == 'O' and row3[4] == 'O'):\n",
    "            return \"I win, better luck next time\"\n",
    "            #horizontal win conditions\n",
    "        elif (row1[0] == 'X' and row1[2] == 'X' and row1[4] == 'X') or (row2[0] == 'X' and row2[2] == 'X' and row2[4] == 'X') or (row3[0] == 'X' and row3[2] == 'X' and row3[4] == 'X'):\n",
    "            return \"you win\"\n",
    "        elif (row1[0] == 'O' and row1[2] == 'O' and row1[4] == 'O') or (row2[0] == 'O' and row2[2] == 'O' and row2[4] == 'O') or (row3[0] == 'O' and row3[2] == 'O' and row3[4] == 'O'):\n",
    "            return \"I win, better luck next time\"\n",
    "            #diagonal win condition\n",
    "        elif (row1[0] == 'X' and row2[2] == 'X' and row3[4] == 'X') or (row3[0] == 'X' and row2[2] == 'X' and row1[4] == 'X'):\n",
    "            return \"you win\"\n",
    "        elif (row1[0] == 'O' and row2[2] == 'O' and row3[4] == 'O') or (row3[0] == 'O' and row2[2] == 'O' and row1[4] == 'O'):\n",
    "            return \"you win\"\n",
    "        #around the board\n",
    "        elif row1[0] == 'X'and row1[2] == 'X' and row1[4] !='O' and row1[4] != 'X':\n",
    "            row1[4] = 'O'\n",
    "        elif row1[0] == 'X'and row2[0] == 'X' and row3[0] != 'O' and row3[0] != 'X':\n",
    "            row3[0] = 'O'\n",
    "        elif row3[0] == 'X' and row2[0] == 'X' and row1[0] != 'O' and row1[0] != 'X':\n",
    "            row1[0] = 'O'\n",
    "        elif row3[0] == 'X' and row3[2] == 'X' and row3[4] != 'O' and row3[4] != 'X':\n",
    "            row3[4] = 'O'\n",
    "        elif row3[2] == 'X' and row3[4] == 'X' and row3[0] != 'O' and row3[0] != 'X':\n",
    "            row3[0] = 'O'\n",
    "        elif row3[4] == 'X' and row2[4] == 'X' and row1[4] != 'O' and row1[4] != 'X':\n",
    "            row1[4] = 'O'\n",
    "        elif row1[4] == 'X' and row2[4] == 'X' and row3[4] != 'O' and row3[4] != 'X':\n",
    "            row3[4] = 'O'\n",
    "        elif row1[4] == 'X'and row1[2] == 'X' and row1[0] !='O' and row1[0] != 'X':\n",
    "            row1[0] = 'O'\n",
    "        #middle blocks\n",
    "        elif row2[0] == 'X'and row2[2] == 'X' and row2[4] !='O' and row2[4] != 'X':\n",
    "            row2[4] = 'O'\n",
    "        elif row2[2] == 'X'and row2[4] == 'X' and row2[0] !='O' and row2[0] != 'X':\n",
    "            row2[0] = 'O'\n",
    "        elif row1[2] == 'X'and row2[2] == 'X' and row3[2] !='O' and row3[2] != 'X':\n",
    "            row3[2] = 'O'\n",
    "        elif row2[2] == 'X'and row3[2] == 'X' and row1[2] !='O' and row1[2] != 'X':\n",
    "            row1[2] = 'O'   \n",
    "        #left and right X, block in the middle\n",
    "        elif row2[0] == 'X'and row2[4] == 'X' and row2[2] !='O' and row2[2] != 'X':\n",
    "            row2[2] = 'O'\n",
    "        elif row1[0] == 'X'and row1[4] == 'X' and row1[2] !='O' and row1[2] != 'X':\n",
    "            row1[2] = 'O'\n",
    "        elif row3[0] == 'X'and row3[4] == 'X' and row3[2] !='O' and row3[2] != 'X':\n",
    "            row3[2] = 'O'\n",
    "        #top and bottom X, block in the middle\n",
    "        elif row1[0] == 'X'and row3[0] == 'X' and row2[0] != 'O' and row2[0] != 'X':\n",
    "            row2[0] = 'O'\n",
    "        elif row1[2] == 'X'and row3[2] == 'X' and row2[2] != 'O' and row2[2] != 'X':\n",
    "            row2[2] = 'O'\n",
    "        elif row1[4] == 'X'and row3[4] == 'X' and row2[4] != 'O' and row2[4] != 'X':\n",
    "            row2[4] = 'O'\n",
    "        #diagon ally left to right\n",
    "        elif row1[0] == 'X' and row2[2] == 'X' and row3[4] != 'O' and row3[4] != 'X':\n",
    "            row3[4] = 'O'\n",
    "        elif row1[0] == 'X' and row3[4] == 'X' and row2[2] != 'O' and row2[2] != 'X':\n",
    "            row2[2] = 'O'\n",
    "        elif row2[2] == 'X' and row3[4] == 'X' and row1[0] != 'O' and row1[0] != 'X':\n",
    "            row1[0] = 'O'\n",
    "        # diagonally right to left\n",
    "        elif row1[4] == 'X' and row2[2] == 'X' and row3[0] != 'O' and row3[0] != 'X':\n",
    "            row3[0] = 'O'\n",
    "        elif row1[4] == 'X' and row3[0] == 'X' and row2[2] != 'O' and row2[2] != 'X':\n",
    "            row2[2] = 'O'\n",
    "        elif row3[0] == 'X' and row2[2] == 'X' and row1[4] != 'O' and row1[4] != 'X':\n",
    "            row1[4] = 'O'\n",
    "        \n",
    "    \n",
    "    elif row_num ==2:\n",
    "        row2[position_index] = 'X'\n",
    "        if row2[2] != 'X' and row2[2] != 'O':\n",
    "            row2[2] = 'O'\n",
    "        #win conditions\n",
    "        elif (row1[0] == 'X' or row1[0] == 'O') and (row1[2] == 'X' or row1[2] == 'O') and (row1[4] == 'X' or row1[4] == 'O') and (row2[0] == 'X' or row2[0] == 'O') and (row2[2] == 'X' or row2[2] == 'O') and (row2[4] == 'X' or row2[4] == 'O') and (row3[0] == 'X' or row3[0] == 'O') and (row3[2] == 'X' or row3[2] == 'O') and (row3[4] == 'X' or row3[4] == 'O'):\n",
    "                 return \"good game, its a draw\"\n",
    "            #vertical win conditions\n",
    "        elif (row1[0] == 'X' and row2[0] == 'X' and row3[0] == 'X') or (row1[2] == 'X' and row2[2] == 'X' and row3[2] == 'X') or (row1[4] == 'X' and row2[4] == 'X' and row3[4] == 'X'):\n",
    "            return \"you win\"\n",
    "        elif (row1[0] == 'O' and row2[0] == 'O' and row3[0] == 'O') or (row1[2] == 'O' and row2[2] == 'O' and row3[2] == 'O') or (row1[4] == 'O' and row2[4] == 'O' and row3[4] == 'O'):\n",
    "            return \"I win, better luck next time\"\n",
    "            #horizontal win conditions\n",
    "        elif (row1[0] == 'X' and row1[2] == 'X' and row1[4] == 'X') or (row2[0] == 'X' and row2[2] == 'X' and row2[4] == 'X') or (row3[0] == 'X' and row3[2] == 'X' and row3[4] == 'X'):\n",
    "            return \"you win\"\n",
    "        elif (row1[0] == 'O' and row1[2] == 'O' and row1[4] == 'O') or (row2[0] == 'O' and row2[2] == 'O' and row2[4] == 'O') or (row3[0] == 'O' and row3[2] == 'O' and row3[4] == 'O'):\n",
    "            return \"I win, better luck next time\"\n",
    "            #diagonal win condition\n",
    "        elif (row1[0] == 'X' and row2[2] == 'X' and row3[4] == 'X') or (row3[0] == 'X' and row2[2] == 'X' and row1[4] == 'X'):\n",
    "            return \"you win\"\n",
    "        elif (row1[0] == 'O' and row2[2] == 'O' and row3[4] == 'O') or (row3[0] == 'O' and row2[2] == 'O' and row1[4] == 'O'):\n",
    "            return \"you win\"\n",
    "        #around the board\n",
    "        elif row1[0] == 'X'and row1[2] == 'X' and row1[4] !='O' and row1[4] != 'X':\n",
    "            row1[4] = 'O'\n",
    "        elif row1[0] == 'X'and row2[0] == 'X' and row3[0] != 'O' and row3[0] != 'X':\n",
    "            row3[0] = 'O'\n",
    "        elif row3[0] == 'X' and row2[0] == 'X' and row1[0] != 'O' and row1[0] != 'X':\n",
    "            row1[0] = 'O'\n",
    "        elif row3[0] == 'X' and row3[2] == 'X' and row3[4] != 'O' and row3[4] != 'X':\n",
    "            row3[4] = 'O'\n",
    "        elif row3[2] == 'X' and row3[4] == 'X' and row3[0] != 'O' and row3[0] != 'X':\n",
    "            row3[0] = 'O'\n",
    "        elif row3[4] == 'X' and row2[4] == 'X' and row1[4] != 'O' and row1[4] != 'X':\n",
    "            row1[4] = 'O'\n",
    "        elif row1[4] == 'X' and row2[4] == 'X' and row3[4] != 'O' and row3[4] != 'X':\n",
    "            row3[4] = 'O'\n",
    "        elif row1[4] == 'X'and row1[2] == 'X' and row1[0] !='O' and row1[0] != 'X':\n",
    "            row1[0] = 'O'\n",
    "        #middle blocks\n",
    "        elif row2[0] == 'X'and row2[2] == 'X' and row2[4] !='O' and row2[4] != 'X':\n",
    "            row2[4] = 'O'\n",
    "        elif row2[2] == 'X'and row2[4] == 'X' and row2[0] !='O' and row2[0] != 'X':\n",
    "            row2[0] = 'O'\n",
    "        elif row1[2] == 'X'and row2[2] == 'X' and row3[2] !='O' and row3[2] != 'X':\n",
    "            row3[2] = 'O'\n",
    "        elif row2[2] == 'X'and row3[2] == 'X' and row1[2] !='O' and row1[2] != 'X':\n",
    "            row1[2] = 'O'   \n",
    "        #left and right X, block in the middle\n",
    "        elif row2[0] == 'X'and row2[4] == 'X' and row2[2] !='O' and row2[2] != 'X':\n",
    "            row2[2] = 'O'\n",
    "        elif row1[0] == 'X'and row1[4] == 'X' and row1[2] !='O' and row1[2] != 'X':\n",
    "            row1[2] = 'O'\n",
    "        elif row3[0] == 'X'and row3[4] == 'X' and row3[2] !='O' and row3[2] != 'X':\n",
    "            row3[2] = 'O'\n",
    "        #top and bottom X, block in the middle\n",
    "        elif row1[0] == 'X'and row3[0] == 'X' and row2[0] != 'O' and row2[0] != 'X':\n",
    "            row2[0] = 'O'\n",
    "        elif row1[2] == 'X'and row3[2] == 'X' and row2[2] != 'O' and row2[2] != 'X':\n",
    "            row2[2] = 'O'\n",
    "        elif row1[4] == 'X'and row3[4] == 'X' and row2[4] != 'O' and row2[4] != 'X':\n",
    "            row2[4] = 'O'\n",
    "        #diagon ally left to right\n",
    "        elif row1[0] == 'X' and row2[2] == 'X' and row3[4] != 'O' and row3[4] != 'X':\n",
    "            row3[4] = 'O'\n",
    "        elif row1[0] == 'X' and row3[4] == 'X' and row2[2] != 'O' and row2[2] != 'X':\n",
    "            row2[2] = 'O'\n",
    "        elif row2[2] == 'X' and row3[4] == 'X' and row1[0] != 'O' and row1[0] != 'X':\n",
    "            row1[0] = 'O'\n",
    "        # diagonally right to left\n",
    "        elif row1[4] == 'X' and row2[2] == 'X' and row3[0] != 'O' and row3[0] != 'X':\n",
    "            row3[0] = 'O'\n",
    "        elif row1[4] == 'X' and row3[0] == 'X' and row2[2] != 'O' and row2[2] != 'X':\n",
    "            row2[2] = 'O'\n",
    "        elif row3[0] == 'X' and row2[2] == 'X' and row1[4] != 'O' and row1[4] != 'X':\n",
    "            row1[4] = 'O'\n",
    "    \n",
    "    elif row_num ==3:\n",
    "        row3[position_index] = 'X'\n",
    "        if row2[2] != 'X' and row2[2] != 'O':\n",
    "            row2[2] = 'O'\n",
    "        #win conditions\n",
    "        elif (row1[0] == 'X' or row1[0] == 'O') and (row1[2] == 'X' or row1[2] == 'O') and (row1[4] == 'X' or row1[4] == 'O') and (row2[0] == 'X' or row2[0] == 'O') and (row2[2] == 'X' or row2[2] == 'O') and (row2[4] == 'X' or row2[4] == 'O') and (row3[0] == 'X' or row3[0] == 'O') and (row3[2] == 'X' or row3[2] == 'O') and (row3[4] == 'X' or row3[4] == 'O'):\n",
    "                 return \"good game, its a draw\"\n",
    "            #vertical win conditions\n",
    "        elif (row1[0] == 'X' and row2[0] == 'X' and row3[0] == 'X') or (row1[2] == 'X' and row2[2] == 'X' and row3[2] == 'X') or (row1[4] == 'X' and row2[4] == 'X' and row3[4] == 'X'):\n",
    "            return \"you win\"\n",
    "        elif (row1[0] == 'O' and row2[0] == 'O' and row3[0] == 'O') or (row1[2] == 'O' and row2[2] == 'O' and row3[2] == 'O') or (row1[4] == 'O' and row2[4] == 'O' and row3[4] == 'O'):\n",
    "            return \"I win, better luck next time\"\n",
    "            #horizontal win conditions\n",
    "        elif (row1[0] == 'X' and row1[2] == 'X' and row1[4] == 'X') or (row2[0] == 'X' and row2[2] == 'X' and row2[4] == 'X') or (row3[0] == 'X' and row3[2] == 'X' and row3[4] == 'X'):\n",
    "            return \"you win\"\n",
    "        elif (row1[0] == 'O' and row1[2] == 'O' and row1[4] == 'O') or (row2[0] == 'O' and row2[2] == 'O' and row2[4] == 'O') or (row3[0] == 'O' and row3[2] == 'O' and row3[4] == 'O'):\n",
    "            return \"I win, better luck next time\"\n",
    "            #diagonal win condition\n",
    "        elif (row1[0] == 'X' and row2[2] == 'X' and row3[4] == 'X') or (row3[0] == 'X' and row2[2] == 'X' and row1[4] == 'X'):\n",
    "            return \"you win\"\n",
    "        elif (row1[0] == 'O' and row2[2] == 'O' and row3[4] == 'O') or (row3[0] == 'O' and row2[2] == 'O' and row1[4] == 'O'):\n",
    "            return \"you win\"\n",
    "        #around the board\n",
    "        elif row1[0] == 'X'and row1[2] == 'X' and row1[4] !='O' and row1[4] != 'X':\n",
    "            row1[4] = 'O'\n",
    "        elif row1[0] == 'X'and row2[0] == 'X' and row3[0] != 'O' and row3[0] != 'X':\n",
    "            row3[0] = 'O'\n",
    "        elif row3[0] == 'X' and row2[0] == 'X' and row1[0] != 'O' and row1[0] != 'X':\n",
    "            row1[0] = 'O'\n",
    "        elif row3[0] == 'X' and row3[2] == 'X' and row3[4] != 'O' and row3[4] != 'X':\n",
    "            row3[4] = 'O'\n",
    "        elif row3[2] == 'X' and row3[4] == 'X' and row3[0] != 'O' and row3[0] != 'X':\n",
    "            row3[0] = 'O'\n",
    "        elif row3[4] == 'X' and row2[4] == 'X' and row1[4] != 'O' and row1[4] != 'X':\n",
    "            row1[4] = 'O'\n",
    "        elif row1[4] == 'X' and row2[4] == 'X' and row3[4] != 'O' and row3[4] != 'X':\n",
    "            row3[4] = 'O'\n",
    "        elif row1[4] == 'X'and row1[2] == 'X' and row1[0] !='O' and row1[0] != 'X':\n",
    "            row1[0] = 'O'\n",
    "        #middle blocks\n",
    "        elif row2[0] == 'X'and row2[2] == 'X' and row2[4] !='O' and row2[4] != 'X':\n",
    "            row2[4] = 'O'\n",
    "        elif row2[2] == 'X'and row2[4] == 'X' and row2[0] !='O' and row2[0] != 'X':\n",
    "            row2[0] = 'O'\n",
    "        elif row1[2] == 'X'and row2[2] == 'X' and row3[2] !='O' and row3[2] != 'X':\n",
    "            row3[2] = 'O'\n",
    "        elif row2[2] == 'X'and row3[2] == 'X' and row1[2] !='O' and row1[2] != 'X':\n",
    "            row1[2] = 'O'   \n",
    "        #left and right X, block in the middle\n",
    "        elif row2[0] == 'X'and row2[4] == 'X' and row2[2] !='O' and row2[2] != 'X':\n",
    "            row2[2] = 'O'\n",
    "        elif row1[0] == 'X'and row1[4] == 'X' and row1[2] !='O' and row1[2] != 'X':\n",
    "            row1[2] = 'O'\n",
    "        elif row3[0] == 'X'and row3[4] == 'X' and row3[2] !='O' and row3[2] != 'X':\n",
    "            row3[2] = 'O'\n",
    "        #top and bottom X, block in the middle\n",
    "        elif row1[0] == 'X'and row3[0] == 'X' and row2[0] != 'O' and row2[0] != 'X':\n",
    "            row2[0] = 'O'\n",
    "        elif row1[2] == 'X'and row3[2] == 'X' and row2[2] != 'O' and row2[2] != 'X':\n",
    "            row2[2] = 'O'\n",
    "        elif row1[4] == 'X'and row3[4] == 'X' and row2[4] != 'O' and row2[4] != 'X':\n",
    "            row2[4] = 'O'\n",
    "        #diagon ally left to right\n",
    "        elif row1[0] == 'X' and row2[2] == 'X' and row3[4] != 'O' and row3[4] != 'X':\n",
    "            row3[4] = 'O'\n",
    "        elif row1[0] == 'X' and row3[4] == 'X' and row2[2] != 'O' and row2[2] != 'X':\n",
    "            row2[2] = 'O'\n",
    "        elif row2[2] == 'X' and row3[4] == 'X' and row1[0] != 'O' and row1[0] != 'X':\n",
    "            row1[0] = 'O'\n",
    "        # diagonally right to left\n",
    "        elif row1[4] == 'X' and row2[2] == 'X' and row3[0] != 'O' and row3[0] != 'X':\n",
    "            row3[0] = 'O'\n",
    "        elif row1[4] == 'X' and row3[0] == 'X' and row2[2] != 'O' and row2[2] != 'X':\n",
    "            row2[2] = 'O'\n",
    "        elif row3[0] == 'X' and row2[2] == 'X' and row1[4] != 'O' and row1[4] != 'X':\n",
    "            row1[4] = 'O'\n",
    "        \n",
    "        \n",
    "        \n",
    "    display(row1,row2,row3)"
   ]
  },
  {
   "cell_type": "code",
   "execution_count": 181,
   "metadata": {},
   "outputs": [
    {
     "name": "stdout",
     "output_type": "stream",
     "text": [
      "choose a row number: \n",
      "1\n",
      "2\n",
      "3  : 2\n",
      "Please choose a position (0, 2, or 4): 0\n",
      "['0', '|', '2', '|', '4']\n",
      "-------+---------+-------\n",
      "['0', '|', '2', '|', '4']\n",
      "-------+---------+-------\n",
      "['0', '|', '2', '|', '4']\n"
     ]
    }
   ],
   "source": [
    "turn()"
   ]
  },
  {
   "cell_type": "code",
   "execution_count": 71,
   "metadata": {},
   "outputs": [],
   "source": [
    "def reset_game():\n",
    "    row1 = ['0','|','2','|','4']\n",
    "    row2 = ['0','|','2','|','4']\n",
    "    row3 = ['0','|','2','|','4']\n",
    "    display(row1,row2,row3)"
   ]
  },
  {
   "cell_type": "markdown",
   "metadata": {},
   "source": [
    "created a game reset to clear the board."
   ]
  },
  {
   "cell_type": "code",
   "execution_count": 43,
   "metadata": {},
   "outputs": [
    {
     "name": "stdout",
     "output_type": "stream",
     "text": [
      "['0', '|', '2', '|', '4']\n",
      "-------+---------+-------\n",
      "['0', '|', '2', '|', '4']\n",
      "-------+---------+-------\n",
      "['0', '|', '2', '|', '4']\n"
     ]
    }
   ],
   "source": [
    "reset_game()"
   ]
  },
  {
   "cell_type": "code",
   "execution_count": 69,
   "metadata": {},
   "outputs": [
    {
     "name": "stdout",
     "output_type": "stream",
     "text": [
      "['0', '|', '2', '|', '4']\n",
      "-------+---------+-------\n",
      "['0', '|', '2', '|', '4']\n",
      "-------+---------+-------\n",
      "['0', '|', '2', '|', '4']\n"
     ]
    }
   ],
   "source": [
    "display(row1,row2,row3)"
   ]
  },
  {
   "cell_type": "code",
   "execution_count": 115,
   "metadata": {},
   "outputs": [],
   "source": [
    "def user_choice():\n",
    "    choice = \"wrong\"\n",
    "    while choice.isdigit() == False:\n",
    "        \n",
    "        choice = input(\"Please enter a number (0-10): \")\n",
    "        if choice.isdigit() == False:\n",
    "            print(\"Sorry, that is not a digit\")\n",
    "\n",
    "    return int(choice)"
   ]
  },
  {
   "cell_type": "code",
   "execution_count": 116,
   "metadata": {},
   "outputs": [
    {
     "name": "stdout",
     "output_type": "stream",
     "text": [
      "Please enter a number (0-10): sdf\n",
      "Sorry, that is not a digit\n",
      "Please enter a number (0-10): 2929\n"
     ]
    },
    {
     "data": {
      "text/plain": [
       "2929"
      ]
     },
     "execution_count": 116,
     "metadata": {},
     "output_type": "execute_result"
    }
   ],
   "source": [
    "user_choice()"
   ]
  },
  {
   "cell_type": "code",
   "execution_count": 112,
   "metadata": {},
   "outputs": [],
   "source": [
    "acceptable_values = [0,2,4]"
   ]
  },
  {
   "cell_type": "code",
   "execution_count": 166,
   "metadata": {},
   "outputs": [],
   "source": [
    "def user_choice():\n",
    "    \n",
    "    choice = 'Wrong'\n",
    "    within_range = False\n",
    "    \n",
    "    while choice.isdigit() == False or within_range == False:\n",
    "        choice = input(\"Please choose a number (1-10): \")\n",
    "        \n",
    "        if choice.isdigit() == False:\n",
    "            print(\"Sorry, this is not an integer.\")\n",
    "            \n",
    "        if choice.isdigit() == True:\n",
    "            if int(choice) in range(0,5,2):\n",
    "                within_range = True\n",
    "            else:\n",
    "                print(\"Sorry, please pick an integer in the specified range.\")\n",
    "                within_range = False\n",
    "    return int(choice)\n",
    "                "
   ]
  },
  {
   "cell_type": "code",
   "execution_count": 167,
   "metadata": {},
   "outputs": [
    {
     "name": "stdout",
     "output_type": "stream",
     "text": [
      "Please choose a number (1-10): sdf\n",
      "Sorry, this is not an integer.\n",
      "Please choose a number (1-10): 6\n",
      "Sorry, please pick an integer in the specified range.\n",
      "Please choose a number (1-10): 5\n",
      "Sorry, please pick an integer in the specified range.\n",
      "Please choose a number (1-10): 3\n",
      "Sorry, please pick an integer in the specified range.\n",
      "Please choose a number (1-10): 2\n"
     ]
    },
    {
     "data": {
      "text/plain": [
       "2"
      ]
     },
     "execution_count": 167,
     "metadata": {},
     "output_type": "execute_result"
    }
   ],
   "source": [
    "user_choice()"
   ]
  },
  {
   "cell_type": "code",
   "execution_count": 185,
   "metadata": {},
   "outputs": [
    {
     "name": "stdout",
     "output_type": "stream",
     "text": [
      "{0: 3, 1: 1, 2: 2, 3: 3, 4: 4}\n"
     ]
    }
   ],
   "source": [
    "my_dict = {0:0,1:1,2:2,3:3,4:4}\n",
    "\n",
    "my_dict[0] = 3\n",
    "\n",
    "print(my_dict)"
   ]
  },
  {
   "cell_type": "code",
   "execution_count": 10,
   "metadata": {},
   "outputs": [],
   "source": [
    "def turn(user_choice):\n",
    "    #represents the move\n",
    "    values = ['' for x in range(9)]\n",
    "    \n",
    "   \n",
    "    #stores the positions already made by both players\n",
    "    player_pos = {\"X\":[],\"O\":[]}\n",
    "    \n",
    "    player_pos[\"X\"] = user_choice\n",
    "    print(player_pos)"
   ]
  },
  {
   "cell_type": "code",
   "execution_count": 12,
   "metadata": {},
   "outputs": [
    {
     "name": "stdout",
     "output_type": "stream",
     "text": [
      "{'X': 3, 'O': []}\n"
     ]
    }
   ],
   "source": [
    "turn(3)"
   ]
  },
  {
   "cell_type": "code",
   "execution_count": 9,
   "metadata": {},
   "outputs": [
    {
     "ename": "NameError",
     "evalue": "name 'player_pos' is not defined",
     "output_type": "error",
     "traceback": [
      "\u001b[1;31m---------------------------------------------------------------------------\u001b[0m",
      "\u001b[1;31mNameError\u001b[0m                                 Traceback (most recent call last)",
      "\u001b[1;32m<ipython-input-9-ba4fb2657806>\u001b[0m in \u001b[0;36m<module>\u001b[1;34m\u001b[0m\n\u001b[1;32m----> 1\u001b[1;33m \u001b[0mprint\u001b[0m\u001b[1;33m(\u001b[0m\u001b[0mplayer_pos\u001b[0m\u001b[1;33m)\u001b[0m\u001b[1;33m\u001b[0m\u001b[1;33m\u001b[0m\u001b[0m\n\u001b[0m",
      "\u001b[1;31mNameError\u001b[0m: name 'player_pos' is not defined"
     ]
    }
   ],
   "source": []
  },
  {
   "cell_type": "code",
   "execution_count": null,
   "metadata": {},
   "outputs": [],
   "source": []
  }
 ],
 "metadata": {
  "kernelspec": {
   "display_name": "Python 3",
   "language": "python",
   "name": "python3"
  },
  "language_info": {
   "codemirror_mode": {
    "name": "ipython",
    "version": 3
   },
   "file_extension": ".py",
   "mimetype": "text/x-python",
   "name": "python",
   "nbconvert_exporter": "python",
   "pygments_lexer": "ipython3",
   "version": "3.8.5"
  }
 },
 "nbformat": 4,
 "nbformat_minor": 4
}

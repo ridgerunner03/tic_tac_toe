{
 "cells": [
  {
   "cell_type": "markdown",
   "metadata": {},
   "source": [
    "TO DO LIST:\n",
    "\n",
    "D  open game function - choose X or O and def current_player function.\n",
    "\n",
    "D  reset function - resets the board to show the index position rather than the X or O later input.\n",
    "\n",
    "While Loop begins here:\n",
    "\n",
    "    D  display function to display the current board\n",
    "\n",
    "    D  turn - user picks an index position\n",
    "\n",
    "    user_choice - the position is recorded in a dictionary and placed on the board\n",
    "\n",
    "    scan for 3 in a row\n",
    "\n",
    "    either begin while loop again for next player or move to next step\n",
    "\n",
    "announce winner\n",
    "\n",
    "ask if they want to play again\n"
   ]
  },
  {
   "cell_type": "markdown",
   "metadata": {},
   "source": [
    "Open game function will welcome players and ask if they are X or O.  I may want to end this with a more concrete curr_player = "
   ]
  },
  {
   "cell_type": "code",
   "execution_count": 226,
   "metadata": {},
   "outputs": [
    {
     "ename": "NameError",
     "evalue": "name 'curr_player' is not defined",
     "output_type": "error",
     "traceback": [
      "\u001b[1;31m---------------------------------------------------------------------------\u001b[0m",
      "\u001b[1;31mNameError\u001b[0m                                 Traceback (most recent call last)",
      "\u001b[1;32m<ipython-input-226-2a36af523b8a>\u001b[0m in \u001b[0;36m<module>\u001b[1;34m\u001b[0m\n\u001b[0;32m     22\u001b[0m     \u001b[1;32mreturn\u001b[0m \u001b[0mstr\u001b[0m\u001b[1;33m(\u001b[0m\u001b[0mcurr_player\u001b[0m\u001b[1;33m)\u001b[0m\u001b[1;33m\u001b[0m\u001b[1;33m\u001b[0m\u001b[0m\n\u001b[0;32m     23\u001b[0m \u001b[1;33m\u001b[0m\u001b[0m\n\u001b[1;32m---> 24\u001b[1;33m \u001b[0mprint\u001b[0m\u001b[1;33m(\u001b[0m\u001b[0mcurr_player\u001b[0m\u001b[1;33m)\u001b[0m\u001b[1;33m\u001b[0m\u001b[1;33m\u001b[0m\u001b[0m\n\u001b[0m\u001b[0;32m     25\u001b[0m \u001b[1;33m\u001b[0m\u001b[0m\n",
      "\u001b[1;31mNameError\u001b[0m: name 'curr_player' is not defined"
     ]
    }
   ],
   "source": [
    "def open_game():\n",
    "    \n",
    "    curr_player = '9999'\n",
    "    correct = False\n",
    "    \n",
    "    while curr_player.isalpha() == False or correct == False:\n",
    "        curr_player = input(\"Welcome to TicTacToe, please choose either 'X' or 'O': \")\n",
    "        \n",
    "        if curr_player.isalpha() == False:\n",
    "            print(\"Sorry, this was a number.  Please choose either 'X' or 'O': \")\n",
    "            \n",
    "        if curr_player.isalpha() == True:\n",
    "            if str(curr_player) == 'X':\n",
    "                correct = True\n",
    "            elif str(curr_player) == 'O':\n",
    "                correct = True\n",
    "            else:\n",
    "                print(\"This was not either an 'X' or an 'O'.  Please choose which symbol you would like to be.\")\n",
    "                correct = False\n",
    "    \n",
    "        s\n",
    "    \n",
    "    return str(curr_player)   \n",
    "\n",
    "     "
   ]
  },
  {
   "cell_type": "code",
   "execution_count": 224,
   "metadata": {},
   "outputs": [
    {
     "name": "stdout",
     "output_type": "stream",
     "text": [
      "Welcome to TicTacToe, please choose either 'X' or 'O': O\n"
     ]
    },
    {
     "data": {
      "text/plain": [
       "'O'"
      ]
     },
     "execution_count": 224,
     "metadata": {},
     "output_type": "execute_result"
    }
   ],
   "source": [
    "open_game(9)\n"
   ]
  },
  {
   "cell_type": "code",
   "execution_count": 225,
   "metadata": {},
   "outputs": [
    {
     "ename": "NameError",
     "evalue": "name 'curr_player' is not defined",
     "output_type": "error",
     "traceback": [
      "\u001b[1;31m---------------------------------------------------------------------------\u001b[0m",
      "\u001b[1;31mNameError\u001b[0m                                 Traceback (most recent call last)",
      "\u001b[1;32m<ipython-input-225-119b379bc865>\u001b[0m in \u001b[0;36m<module>\u001b[1;34m\u001b[0m\n\u001b[1;32m----> 1\u001b[1;33m \u001b[0mprint\u001b[0m\u001b[1;33m(\u001b[0m\u001b[0mcurr_player\u001b[0m\u001b[1;33m)\u001b[0m\u001b[1;33m\u001b[0m\u001b[1;33m\u001b[0m\u001b[0m\n\u001b[0m",
      "\u001b[1;31mNameError\u001b[0m: name 'curr_player' is not defined"
     ]
    }
   ],
   "source": [
    "print(curr_player)"
   ]
  },
  {
   "cell_type": "markdown",
   "metadata": {},
   "source": [
    "reset function so that the game shows index position numbers rather than X's and O's on the board"
   ]
  },
  {
   "cell_type": "code",
   "execution_count": null,
   "metadata": {},
   "outputs": [],
   "source": [
    "\n",
    "#resets the display board\n",
    "value = ['#','0','1','2','3','4','5','6','7','8','9']\n",
    "\n",
    "#resets the player dictionary\n",
    "player_pos = {\"X\":[],\"O\":[]}\n",
    "\n",
    "\n",
    "\n"
   ]
  },
  {
   "cell_type": "code",
   "execution_count": null,
   "metadata": {},
   "outputs": [],
   "source": []
  },
  {
   "cell_type": "markdown",
   "metadata": {},
   "source": [
    "display function for players to see what the board looks like"
   ]
  },
  {
   "cell_type": "code",
   "execution_count": 235,
   "metadata": {},
   "outputs": [],
   "source": [
    "def display(value):\n",
    "    #value = ['#','0','1','2','3','4','5','6','7','8','9']\n",
    "    \n",
    "    \n",
    "    print(\"\\n\")\n",
    "    print(\"\\t     |         |     \")\n",
    "    print(\"\\t {}   |   {}     |   {} \".format (value[0], value[1], value[2]))\n",
    "    print(\"\\t     |         |     \")\n",
    "    print(\"\\t-----+---------+-----\")\n",
    "    print(\"\\t     |         |     \")\n",
    "    print(\"\\t {}   |   {}     |   {} \".format (value[3], value[4], value[5]))\n",
    "    print(\"\\t     |         |     \")\n",
    "    print(\"\\t-----+---------+-----\")\n",
    "    print(\"\\t     |         |     \")\n",
    "    print(\"\\t {}   |   {}     |   {} \".format (value[6], value[7], value[8]))\n",
    "    print(\"\\t     |         |     \")"
   ]
  },
  {
   "cell_type": "code",
   "execution_count": 229,
   "metadata": {
    "scrolled": true
   },
   "outputs": [
    {
     "ename": "TypeError",
     "evalue": "display() missing 1 required positional argument: 'value'",
     "output_type": "error",
     "traceback": [
      "\u001b[1;31m---------------------------------------------------------------------------\u001b[0m",
      "\u001b[1;31mTypeError\u001b[0m                                 Traceback (most recent call last)",
      "\u001b[1;32m<ipython-input-229-4ab3b57d7e7c>\u001b[0m in \u001b[0;36m<module>\u001b[1;34m\u001b[0m\n\u001b[1;32m----> 1\u001b[1;33m \u001b[0mdisplay\u001b[0m\u001b[1;33m(\u001b[0m\u001b[1;33m)\u001b[0m\u001b[1;33m\u001b[0m\u001b[1;33m\u001b[0m\u001b[0m\n\u001b[0m",
      "\u001b[1;31mTypeError\u001b[0m: display() missing 1 required positional argument: 'value'"
     ]
    }
   ],
   "source": [
    "display()"
   ]
  },
  {
   "cell_type": "code",
   "execution_count": 236,
   "metadata": {},
   "outputs": [
    {
     "name": "stdout",
     "output_type": "stream",
     "text": [
      "\n",
      "\n",
      "\t     |         |     \n",
      "\t #   |   X     |   O \n",
      "\t     |         |     \n",
      "\t-----+---------+-----\n",
      "\t     |         |     \n",
      "\t X   |   O     |   X \n",
      "\t     |         |     \n",
      "\t-----+---------+-----\n",
      "\t     |         |     \n",
      "\t O   |   X     |   O \n",
      "\t     |         |     \n"
     ]
    }
   ],
   "source": [
    "value = ['#','X','O','X','O','X','O','X','O','X']\n",
    "\n",
    "display(value)"
   ]
  },
  {
   "cell_type": "code",
   "execution_count": 182,
   "metadata": {},
   "outputs": [],
   "source": [
    "def user_choice():\n",
    "    \n",
    "    choice = 'Wrong'\n",
    "    within_range = False\n",
    "    \n",
    "    while choice.isdigit() == False or within_range == False:\n",
    "        choice = input(\"Please choose a number (0-9): \")\n",
    "        \n",
    "        if choice.isdigit() == False:\n",
    "            print(\"Sorry, this is not an integer.\")\n",
    "            \n",
    "        if choice.isdigit() == True:\n",
    "            if int(choice) in range(0,10):\n",
    "                within_range = True\n",
    "            else:\n",
    "                print(\"Sorry, please pick an integer in the specified range.\")\n",
    "                within_range = False\n",
    "    return int(choice)"
   ]
  },
  {
   "cell_type": "code",
   "execution_count": 172,
   "metadata": {},
   "outputs": [
    {
     "name": "stdout",
     "output_type": "stream",
     "text": [
      "Please choose a number (0-9): 2\n"
     ]
    },
    {
     "data": {
      "text/plain": [
       "2"
      ]
     },
     "execution_count": 172,
     "metadata": {},
     "output_type": "execute_result"
    }
   ],
   "source": [
    "user_choice()"
   ]
  },
  {
   "cell_type": "markdown",
   "metadata": {},
   "source": [
    "i'll define curr_player as either 'X' or 'O' in an open game func later"
   ]
  },
  {
   "cell_type": "code",
   "execution_count": 214,
   "metadata": {},
   "outputs": [],
   "source": [
    "def turn(choice):\n",
    "    #represents the move\n",
    "    values = ['' for x in range(9)]\n",
    "    \n",
    "   \n",
    "    #stores the positions already made by both players\n",
    "    # NOTE initial dictionary is found in the reset func at the beginning of the game and before the while loop.\n",
    "   \n",
    "    \n",
    "    if curr_player == 'X':\n",
    "        player_pos['X'] = choice\n",
    "    \n",
    "    elif curr_player == 'O':\n",
    "        player_pos['O'] = choice\n",
    "    "
   ]
  },
  {
   "cell_type": "code",
   "execution_count": 215,
   "metadata": {},
   "outputs": [
    {
     "ename": "NameError",
     "evalue": "name 'curr_player' is not defined",
     "output_type": "error",
     "traceback": [
      "\u001b[1;31m---------------------------------------------------------------------------\u001b[0m",
      "\u001b[1;31mNameError\u001b[0m                                 Traceback (most recent call last)",
      "\u001b[1;32m<ipython-input-215-b55573987c3c>\u001b[0m in \u001b[0;36m<module>\u001b[1;34m\u001b[0m\n\u001b[1;32m----> 1\u001b[1;33m \u001b[0mturn\u001b[0m\u001b[1;33m(\u001b[0m\u001b[1;36m2\u001b[0m\u001b[1;33m)\u001b[0m\u001b[1;33m\u001b[0m\u001b[1;33m\u001b[0m\u001b[0m\n\u001b[0m",
      "\u001b[1;32m<ipython-input-214-ba70cdaf5aa0>\u001b[0m in \u001b[0;36mturn\u001b[1;34m(choice)\u001b[0m\n\u001b[0;32m      8\u001b[0m \u001b[1;33m\u001b[0m\u001b[0m\n\u001b[0;32m      9\u001b[0m \u001b[1;33m\u001b[0m\u001b[0m\n\u001b[1;32m---> 10\u001b[1;33m     \u001b[1;32mif\u001b[0m \u001b[0mcurr_player\u001b[0m \u001b[1;33m==\u001b[0m \u001b[1;34m'X'\u001b[0m\u001b[1;33m:\u001b[0m\u001b[1;33m\u001b[0m\u001b[1;33m\u001b[0m\u001b[0m\n\u001b[0m\u001b[0;32m     11\u001b[0m         \u001b[0mplayer_pos\u001b[0m\u001b[1;33m[\u001b[0m\u001b[1;34m'X'\u001b[0m\u001b[1;33m]\u001b[0m \u001b[1;33m=\u001b[0m \u001b[0mchoice\u001b[0m\u001b[1;33m\u001b[0m\u001b[1;33m\u001b[0m\u001b[0m\n\u001b[0;32m     12\u001b[0m \u001b[1;33m\u001b[0m\u001b[0m\n",
      "\u001b[1;31mNameError\u001b[0m: name 'curr_player' is not defined"
     ]
    }
   ],
   "source": [
    "turn(2)"
   ]
  },
  {
   "cell_type": "code",
   "execution_count": null,
   "metadata": {},
   "outputs": [],
   "source": []
  },
  {
   "cell_type": "code",
   "execution_count": null,
   "metadata": {},
   "outputs": [],
   "source": []
  },
  {
   "cell_type": "code",
   "execution_count": null,
   "metadata": {},
   "outputs": [],
   "source": []
  },
  {
   "cell_type": "code",
   "execution_count": 220,
   "metadata": {},
   "outputs": [],
   "source": [
    "def tictactoe():\n",
    "    from IPython.display import clear_output\n",
    "    \n",
    "    #determine if the current player (first player) is X or O.\n",
    "    open_game()\n",
    "    \n",
    "    #resets the display board\n",
    "    value = ['#','0','1','2','3','4','5','6','7','8','9']\n",
    "\n",
    "    #resets the player dictionary\n",
    "    player_pos = {\"X\":[],\"O\":[]}\n",
    "\n",
    "    \n",
    "    #next we will display the board so that a player can choose their first move.\n",
    "    clear_output()\n",
    "    display()\n",
    "    \n",
    "    #two functions the first is user_choice where the player picks an index position\n",
    "    #the second function is 'turn' where the player's symbol is placed on their choice\n",
    "    \n",
    "    user_choice()\n",
    "    #stores the positions already made by both players\n",
    "    # NOTE initial dictionary is found in the reset func at the beginning of the game and before the while loop.\n",
    "\n",
    "\n",
    "    if curr_player == 'X':\n",
    "        player_pos['X'] =choice\n",
    "\n",
    "    elif curr_player == 'O':\n",
    "        player_pos['O'] = choice\n",
    "        \n",
    "    display()\n",
    "    print(player_pos)\n",
    "\n",
    "    "
   ]
  },
  {
   "cell_type": "code",
   "execution_count": 221,
   "metadata": {},
   "outputs": [
    {
     "name": "stdout",
     "output_type": "stream",
     "text": [
      "\n",
      "\n",
      "\t     |         |     \n",
      "\t 0   |   1     |   2 \n",
      "\t     |         |     \n",
      "\t-----+---------+-----\n",
      "\t     |         |     \n",
      "\t 3   |   4     |   5 \n",
      "\t     |         |     \n",
      "\t-----+---------+-----\n",
      "\t     |         |     \n",
      "\t 6   |   7     |   8 \n",
      "\t     |         |     \n",
      "Please choose a number (0-9): 1\n"
     ]
    },
    {
     "ename": "NameError",
     "evalue": "name 'curr_player' is not defined",
     "output_type": "error",
     "traceback": [
      "\u001b[1;31m---------------------------------------------------------------------------\u001b[0m",
      "\u001b[1;31mNameError\u001b[0m                                 Traceback (most recent call last)",
      "\u001b[1;32m<ipython-input-221-59fa9944681c>\u001b[0m in \u001b[0;36m<module>\u001b[1;34m\u001b[0m\n\u001b[1;32m----> 1\u001b[1;33m \u001b[0mtictactoe\u001b[0m\u001b[1;33m(\u001b[0m\u001b[1;33m)\u001b[0m\u001b[1;33m\u001b[0m\u001b[1;33m\u001b[0m\u001b[0m\n\u001b[0m",
      "\u001b[1;32m<ipython-input-220-cc905360217a>\u001b[0m in \u001b[0;36mtictactoe\u001b[1;34m()\u001b[0m\n\u001b[0;32m     24\u001b[0m \u001b[1;33m\u001b[0m\u001b[0m\n\u001b[0;32m     25\u001b[0m \u001b[1;33m\u001b[0m\u001b[0m\n\u001b[1;32m---> 26\u001b[1;33m     \u001b[1;32mif\u001b[0m \u001b[0mcurr_player\u001b[0m \u001b[1;33m==\u001b[0m \u001b[1;34m'X'\u001b[0m\u001b[1;33m:\u001b[0m\u001b[1;33m\u001b[0m\u001b[1;33m\u001b[0m\u001b[0m\n\u001b[0m\u001b[0;32m     27\u001b[0m         \u001b[0mplayer_pos\u001b[0m\u001b[1;33m[\u001b[0m\u001b[1;34m'X'\u001b[0m\u001b[1;33m]\u001b[0m \u001b[1;33m=\u001b[0m\u001b[0mchoice\u001b[0m\u001b[1;33m\u001b[0m\u001b[1;33m\u001b[0m\u001b[0m\n\u001b[0;32m     28\u001b[0m \u001b[1;33m\u001b[0m\u001b[0m\n",
      "\u001b[1;31mNameError\u001b[0m: name 'curr_player' is not defined"
     ]
    }
   ],
   "source": [
    "tictactoe()"
   ]
  },
  {
   "cell_type": "code",
   "execution_count": null,
   "metadata": {},
   "outputs": [],
   "source": []
  }
 ],
 "metadata": {
  "kernelspec": {
   "display_name": "Python 3",
   "language": "python",
   "name": "python3"
  },
  "language_info": {
   "codemirror_mode": {
    "name": "ipython",
    "version": 3
   },
   "file_extension": ".py",
   "mimetype": "text/x-python",
   "name": "python",
   "nbconvert_exporter": "python",
   "pygments_lexer": "ipython3",
   "version": "3.8.5"
  }
 },
 "nbformat": 4,
 "nbformat_minor": 4
}
